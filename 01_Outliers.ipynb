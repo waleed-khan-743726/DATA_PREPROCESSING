{
 "cells": [
  {
   "cell_type": "markdown",
   "metadata": {},
   "source": [
    "# Z-score Method For Removing Outliers "
   ]
  },
  {
   "cell_type": "code",
   "execution_count": 3,
   "metadata": {},
   "outputs": [],
   "source": [
    "# import libraries\n",
    "import pandas as pd\n",
    "import numpy as np\n",
    "import seaborn as sns"
   ]
  },
  {
   "cell_type": "code",
   "execution_count": 2,
   "metadata": {},
   "outputs": [],
   "source": [
    "# Creating a dataset\n",
    "df=pd.DataFrame({'Age':[20,21,22,23,24,25,26,27,28,29,30,50]})"
   ]
  },
  {
   "cell_type": "code",
   "execution_count": 5,
   "metadata": {},
   "outputs": [
    {
     "data": {
      "text/html": [
       "<div>\n",
       "<style scoped>\n",
       "    .dataframe tbody tr th:only-of-type {\n",
       "        vertical-align: middle;\n",
       "    }\n",
       "\n",
       "    .dataframe tbody tr th {\n",
       "        vertical-align: top;\n",
       "    }\n",
       "\n",
       "    .dataframe thead th {\n",
       "        text-align: right;\n",
       "    }\n",
       "</style>\n",
       "<table border=\"1\" class=\"dataframe\">\n",
       "  <thead>\n",
       "    <tr style=\"text-align: right;\">\n",
       "      <th></th>\n",
       "      <th>Age</th>\n",
       "    </tr>\n",
       "  </thead>\n",
       "  <tbody>\n",
       "    <tr>\n",
       "      <th>0</th>\n",
       "      <td>20</td>\n",
       "    </tr>\n",
       "    <tr>\n",
       "      <th>1</th>\n",
       "      <td>21</td>\n",
       "    </tr>\n",
       "    <tr>\n",
       "      <th>2</th>\n",
       "      <td>22</td>\n",
       "    </tr>\n",
       "    <tr>\n",
       "      <th>3</th>\n",
       "      <td>23</td>\n",
       "    </tr>\n",
       "    <tr>\n",
       "      <th>4</th>\n",
       "      <td>24</td>\n",
       "    </tr>\n",
       "    <tr>\n",
       "      <th>5</th>\n",
       "      <td>25</td>\n",
       "    </tr>\n",
       "    <tr>\n",
       "      <th>6</th>\n",
       "      <td>26</td>\n",
       "    </tr>\n",
       "    <tr>\n",
       "      <th>7</th>\n",
       "      <td>27</td>\n",
       "    </tr>\n",
       "    <tr>\n",
       "      <th>8</th>\n",
       "      <td>28</td>\n",
       "    </tr>\n",
       "    <tr>\n",
       "      <th>9</th>\n",
       "      <td>29</td>\n",
       "    </tr>\n",
       "    <tr>\n",
       "      <th>10</th>\n",
       "      <td>30</td>\n",
       "    </tr>\n",
       "    <tr>\n",
       "      <th>11</th>\n",
       "      <td>50</td>\n",
       "    </tr>\n",
       "  </tbody>\n",
       "</table>\n",
       "</div>"
      ],
      "text/plain": [
       "    Age\n",
       "0    20\n",
       "1    21\n",
       "2    22\n",
       "3    23\n",
       "4    24\n",
       "5    25\n",
       "6    26\n",
       "7    27\n",
       "8    28\n",
       "9    29\n",
       "10   30\n",
       "11   50"
      ]
     },
     "execution_count": 5,
     "metadata": {},
     "output_type": "execute_result"
    }
   ],
   "source": [
    "df"
   ]
  },
  {
   "cell_type": "code",
   "execution_count": null,
   "metadata": {},
   "outputs": [
    {
     "data": {
      "text/plain": [
       "<Axes: xlabel='Age', ylabel='Count'>"
      ]
     },
     "execution_count": 9,
     "metadata": {},
     "output_type": "execute_result"
    },
    {
     "data": {
      "image/png": "[encoded data removed]",
      "text/plain": [
       "<Figure size 640x480 with 1 Axes>"
      ]
     },
     "metadata": {},
     "output_type": "display_data"
    }
   ],
   "source": [
    "# to visualize outliers and missing values\n",
    "sns.histplot(df['Age'],bins=5,kde=True)"
   ]
  },
  {
   "cell_type": "code",
   "execution_count": 11,
   "metadata": {},
   "outputs": [
    {
     "data": {
      "text/plain": [
       "<Axes: ylabel='Age'>"
      ]
     },
     "execution_count": 11,
     "metadata": {},
     "output_type": "execute_result"
    },
    {
     "data": {
      "image/png": "[encoded data removed]",
      "text/plain": [
       "<Figure size 640x480 with 1 Axes>"
      ]
     },
     "metadata": {},
     "output_type": "display_data"
    }
   ],
   "source": [
    "# to visualize outliars and missing values\n",
    "sns.boxplot(df[\"Age\"])"
   ]
  },
  {
   "cell_type": "code",
   "execution_count": 14,
   "metadata": {},
   "outputs": [
    {
     "data": {
      "text/html": [
       "<div>\n",
       "<style scoped>\n",
       "    .dataframe tbody tr th:only-of-type {\n",
       "        vertical-align: middle;\n",
       "    }\n",
       "\n",
       "    .dataframe tbody tr th {\n",
       "        vertical-align: top;\n",
       "    }\n",
       "\n",
       "    .dataframe thead th {\n",
       "        text-align: right;\n",
       "    }\n",
       "</style>\n",
       "<table border=\"1\" class=\"dataframe\">\n",
       "  <thead>\n",
       "    <tr style=\"text-align: right;\">\n",
       "      <th></th>\n",
       "      <th>Age</th>\n",
       "      <th>Z-score</th>\n",
       "    </tr>\n",
       "  </thead>\n",
       "  <tbody>\n",
       "    <tr>\n",
       "      <th>0</th>\n",
       "      <td>20</td>\n",
       "      <td>-0.938954</td>\n",
       "    </tr>\n",
       "    <tr>\n",
       "      <th>1</th>\n",
       "      <td>21</td>\n",
       "      <td>-0.806396</td>\n",
       "    </tr>\n",
       "    <tr>\n",
       "      <th>2</th>\n",
       "      <td>22</td>\n",
       "      <td>-0.673838</td>\n",
       "    </tr>\n",
       "    <tr>\n",
       "      <th>3</th>\n",
       "      <td>23</td>\n",
       "      <td>-0.541280</td>\n",
       "    </tr>\n",
       "    <tr>\n",
       "      <th>4</th>\n",
       "      <td>24</td>\n",
       "      <td>-0.408721</td>\n",
       "    </tr>\n",
       "    <tr>\n",
       "      <th>5</th>\n",
       "      <td>25</td>\n",
       "      <td>-0.276163</td>\n",
       "    </tr>\n",
       "    <tr>\n",
       "      <th>6</th>\n",
       "      <td>26</td>\n",
       "      <td>-0.143605</td>\n",
       "    </tr>\n",
       "    <tr>\n",
       "      <th>7</th>\n",
       "      <td>27</td>\n",
       "      <td>-0.011047</td>\n",
       "    </tr>\n",
       "    <tr>\n",
       "      <th>8</th>\n",
       "      <td>28</td>\n",
       "      <td>0.121512</td>\n",
       "    </tr>\n",
       "    <tr>\n",
       "      <th>9</th>\n",
       "      <td>29</td>\n",
       "      <td>0.254070</td>\n",
       "    </tr>\n",
       "    <tr>\n",
       "      <th>10</th>\n",
       "      <td>30</td>\n",
       "      <td>0.386628</td>\n",
       "    </tr>\n",
       "    <tr>\n",
       "      <th>11</th>\n",
       "      <td>50</td>\n",
       "      <td>3.037793</td>\n",
       "    </tr>\n",
       "  </tbody>\n",
       "</table>\n",
       "</div>"
      ],
      "text/plain": [
       "    Age   Z-score\n",
       "0    20 -0.938954\n",
       "1    21 -0.806396\n",
       "2    22 -0.673838\n",
       "3    23 -0.541280\n",
       "4    24 -0.408721\n",
       "5    25 -0.276163\n",
       "6    26 -0.143605\n",
       "7    27 -0.011047\n",
       "8    28  0.121512\n",
       "9    29  0.254070\n",
       "10   30  0.386628\n",
       "11   50  3.037793"
      ]
     },
     "execution_count": 14,
     "metadata": {},
     "output_type": "execute_result"
    }
   ],
   "source": [
    "# calculate mean and standard deviation\n",
    "mean=np.mean(df['Age'])\n",
    "std=np.std(df['Age'])\n",
    "\n",
    "# Calculating z-score\n",
    "df['Z-score']=(df[\"Age\"]-mean)/std\n",
    "df\n",
    " "
   ]
  },
  {
   "cell_type": "code",
   "execution_count": 19,
   "metadata": {},
   "outputs": [
    {
     "name": "stdout",
     "output_type": "stream",
     "text": [
      "------------------------------------------\n",
      "Here is the data with outliers\n",
      "     Age   Z-score\n",
      "0    20 -0.938954\n",
      "1    21 -0.806396\n",
      "2    22 -0.673838\n",
      "3    23 -0.541280\n",
      "4    24 -0.408721\n",
      "5    25 -0.276163\n",
      "6    26 -0.143605\n",
      "7    27 -0.011047\n",
      "8    28  0.121512\n",
      "9    29  0.254070\n",
      "10   30  0.386628\n",
      "11   50  3.037793\n",
      "-----------------------------------------\n"
     ]
    }
   ],
   "source": [
    "# print the data\n",
    "print(\"------------------------------------------\")\n",
    "print(f\"Here is the data with outliers\\n {df}\")\n",
    "print(\"-----------------------------------------\")"
   ]
  },
  {
   "cell_type": "markdown",
   "metadata": {},
   "source": [
    "If the value of z score is greater than 3 it will be an outlier and less than -3 it is also an outlier"
   ]
  },
  {
   "cell_type": "code",
   "execution_count": 27,
   "metadata": {},
   "outputs": [
    {
     "name": "stdout",
     "output_type": "stream",
     "text": [
      " here are the outliers based on the z-score threshold, 3: \n",
      "     Age   Z-score\n",
      "11   50  3.037793\n"
     ]
    }
   ],
   "source": [
    "# print outliers\n",
    "print(f\" here are the outliers based on the z-score threshold, 3: \\n {df[df['Z-score']>3]}\")"
   ]
  },
  {
   "cell_type": "code",
   "execution_count": 28,
   "metadata": {},
   "outputs": [
    {
     "name": "stdout",
     "output_type": "stream",
     "text": [
      "here is the data without outliers:\n",
      "     Age   Z-score\n",
      "0    20 -0.938954\n",
      "1    21 -0.806396\n",
      "2    22 -0.673838\n",
      "3    23 -0.541280\n",
      "4    24 -0.408721\n",
      "5    25 -0.276163\n",
      "6    26 -0.143605\n",
      "7    27 -0.011047\n",
      "8    28  0.121512\n",
      "9    29  0.254070\n",
      "10   30  0.386628\n"
     ]
    }
   ],
   "source": [
    "# Remove outliers\n",
    "df=df[df[\"Z-score\"]<=3]\n",
    "\n",
    "# print the data without outliers\n",
    "print(f\"here is the data without outliers:\\n {df}\")"
   ]
  },
  {
   "cell_type": "markdown",
   "metadata": {},
   "source": [
    "# Using Loop to Remove Outliers"
   ]
  },
  {
   "cell_type": "code",
   "execution_count": 31,
   "metadata": {},
   "outputs": [],
   "source": [
    "import numpy as np\n",
    "from scipy import stats"
   ]
  },
  {
   "cell_type": "code",
   "execution_count": 32,
   "metadata": {},
   "outputs": [],
   "source": [
    "# Making smaple data\n",
    "data=[2.5,2.7,2.8,3.0,3.2,3.4,3.6,3.8,4.0,110.0]\n",
    "\n"
   ]
  },
  {
   "cell_type": "code",
   "execution_count": 35,
   "metadata": {},
   "outputs": [
    {
     "data": {
      "text/plain": [
       "<Axes: ylabel='Count'>"
      ]
     },
     "execution_count": 35,
     "metadata": {},
     "output_type": "execute_result"
    },
    {
     "data": {
      "image/png": "[encoded data removed]",
      "text/plain": [
       "<Figure size 640x480 with 1 Axes>"
      ]
     },
     "metadata": {},
     "output_type": "display_data"
    }
   ],
   "source": [
    "sns.histplot(data, kde=True)"
   ]
  },
  {
   "cell_type": "code",
   "execution_count": 36,
   "metadata": {},
   "outputs": [
    {
     "data": {
      "text/plain": [
       "<Axes: >"
      ]
     },
     "execution_count": 36,
     "metadata": {},
     "output_type": "execute_result"
    },
    {
     "data": {
      "image/png": "[encoded data removed]",
      "text/plain": [
       "<Figure size 640x480 with 1 Axes>"
      ]
     },
     "metadata": {},
     "output_type": "display_data"
    }
   ],
   "source": [
    "sns.boxplot(data)"
   ]
  },
  {
   "cell_type": "code",
   "execution_count": 42,
   "metadata": {},
   "outputs": [
    {
     "name": "stdout",
     "output_type": "stream",
     "text": [
      "----------------------------------\n",
      "Data: [2.5, 2.7, 2.8, 3.0, 3.2, 3.4, 3.6, 3.8, 4.0, 110.0]\n",
      "----------------------------------\n",
      "Indices of Outliers: [9]\n",
      "Outliers [110.0]\n",
      "------------------------------------\n",
      "Data without outliers: [2.5, 2.7, 2.8, 3.0, 3.2, 3.4, 3.6, 3.8, 4.0]\n"
     ]
    }
   ],
   "source": [
    "# calculte z-score\n",
    "z_score=np.abs(stats.zscore(data))\n",
    "\n",
    "# set a threshold for identifying outliers\n",
    "threshold=2.5 # here we are settig 2.5 threshold instead of 3\n",
    "outliers=np.where(z_score>threshold)[0]\n",
    "\n",
    "# print the data\n",
    "print(\"----------------------------------\")\n",
    "print(\"Data:\",data)\n",
    "print(\"----------------------------------\")\n",
    "\n",
    "print(\"Indices of Outliers:\", outliers)\n",
    "print(\"Outliers\",[data[i] for i in outliers])\n",
    "\n",
    "# Remove outliers\n",
    "data=[data[i] for i in range(len(data)) if i not in outliers]\n",
    "print(\"------------------------------------\")\n",
    "print(\"Data without outliers:\",data)"
   ]
  },
  {
   "cell_type": "markdown",
   "metadata": {},
   "source": [
    "# Inter Quartile Range Method to Remove Outliers"
   ]
  },
  {
   "cell_type": "code",
   "execution_count": 43,
   "metadata": {},
   "outputs": [
    {
     "name": "stdout",
     "output_type": "stream",
     "text": [
      "------------------------------------------\n",
      "Here is the data with outliers\n",
      "     Age\n",
      "0    20\n",
      "1    21\n",
      "2    22\n",
      "3    23\n",
      "4    24\n",
      "5    25\n",
      "6    26\n",
      "7    27\n",
      "8    28\n",
      "9    29\n",
      "10   30\n",
      "11   50\n",
      "-----------------------------------------\n",
      "Here are the outliers based on the IQR threshold:\n",
      " Empty DataFrame\n",
      "Columns: [Age]\n",
      "Index: []\n",
      "-------------------------------------\n",
      "here is the data without outliers: \n",
      "     Age\n",
      "0    20\n",
      "1    21\n",
      "2    22\n",
      "3    23\n",
      "4    24\n",
      "5    25\n",
      "6    26\n",
      "7    27\n",
      "8    28\n",
      "9    29\n",
      "10   30\n"
     ]
    }
   ],
   "source": [
    "import pandas as pd\n",
    "import numpy as np\n",
    "\n",
    "data=pd.DataFrame({\"Age\":[20,21,22,23,24,25,26,27,28,29,30,50]})\n",
    "\n",
    "# Calculate Firsta nd Third Quartile \n",
    "Q1=np.percentile(data[\"Age\"],25, interpolation='midpoint')\n",
    "Q3=np.percentile(data[\"Age\"],75, interpolation='midpoint')\n",
    "\n",
    "# Calculate IQR\n",
    "IQR=Q3-Q1\n",
    "\n",
    "# Calculate Lower and upper bound\n",
    "lower_bound= Q1-(IQR*1.5)\n",
    "Upper_bound= Q3+(IQR*1.5)\n",
    "\n",
    "# print the data\n",
    "print(\"------------------------------------------\")\n",
    "print(f\"Here is the data with outliers\\n {data}\")\n",
    "print(\"-----------------------------------------\")\n",
    "\n",
    "# print the outliers\n",
    "print(f\"Here are the outliers based on the IQR threshold:\\n {data[(data[\"Age\"]< lower_bound)]}\")\n",
    "print(\"-------------------------------------\")\n",
    "\n",
    "# Remove the outliers\n",
    "data=data[(data[\"Age\"]>= lower_bound) & (data[\"Age\"]<=Upper_bound)]\n",
    "\n",
    "# print data without outliers\n",
    "print(f\"here is the data without outliers: \\n {data}\")\n"
   ]
  },
  {
   "cell_type": "markdown",
   "metadata": {},
   "source": [
    "# K-Means Algorithm To Remove Outliers"
   ]
  },
  {
   "cell_type": "code",
   "execution_count": 47,
   "metadata": {},
   "outputs": [],
   "source": [
    "from sklearn.cluster import KMeans\n",
    "# it deals when the data is present in clusters"
   ]
  },
  {
   "cell_type": "code",
   "execution_count": 48,
   "metadata": {},
   "outputs": [
    {
     "name": "stderr",
     "output_type": "stream",
     "text": [
      "c:\\Users\\USER\\miniconda3\\envs\\python_eda\\Lib\\site-packages\\joblib\\externals\\loky\\backend\\context.py:136: UserWarning: Could not find the number of physical cores for the following reason:\n",
      "[WinError 2] The system cannot find the file specified\n",
      "Returning the number of logical cores instead. You can silence this warning by setting LOKY_MAX_CPU_COUNT to the number of cores you want to use.\n",
      "  warnings.warn(\n",
      "  File \"c:\\Users\\USER\\miniconda3\\envs\\python_eda\\Lib\\site-packages\\joblib\\externals\\loky\\backend\\context.py\", line 257, in _count_physical_cores\n",
      "    cpu_info = subprocess.run(\n",
      "               ^^^^^^^^^^^^^^^\n",
      "  File \"c:\\Users\\USER\\miniconda3\\envs\\python_eda\\Lib\\subprocess.py\", line 548, in run\n",
      "    with Popen(*popenargs, **kwargs) as process:\n",
      "         ^^^^^^^^^^^^^^^^^^^^^^^^^^^\n",
      "  File \"c:\\Users\\USER\\miniconda3\\envs\\python_eda\\Lib\\subprocess.py\", line 1026, in __init__\n",
      "    self._execute_child(args, executable, preexec_fn, close_fds,\n",
      "  File \"c:\\Users\\USER\\miniconda3\\envs\\python_eda\\Lib\\subprocess.py\", line 1538, in _execute_child\n",
      "    hp, ht, pid, tid = _winapi.CreateProcess(executable, args,\n",
      "                       ^^^^^^^^^^^^^^^^^^^^^^^^^^^^^^^^^^^^^^^\n"
     ]
    },
    {
     "name": "stdout",
     "output_type": "stream",
     "text": [
      "Data [[2, 2], [3, 3], [3, 4], [30, 30], [31, 31], [32, 32]]\n",
      "outliers [[2, 2], [3, 3], [3, 4]]\n",
      "Data without outliers:  [[30, 30], [31, 31], [32, 32]]\n"
     ]
    }
   ],
   "source": [
    "# create datset\n",
    "data=[[2,2],[3,3],[3,4],[30,30],[31,31],[32,32]]\n",
    "\n",
    "# create k-means model with two clusters (normal and outliers)\n",
    "\n",
    "kmeans=KMeans(n_clusters=2, n_init=10)\n",
    "kmeans.fit(data)\n",
    "\n",
    "# Predict cluster labels\n",
    "labels=kmeans.predict(data)\n",
    "\n",
    "# identify outliers based on cluster labels\n",
    "outliers=[data[i] for i, label in enumerate(labels) if label==1]\n",
    "\n",
    "# print data\n",
    "print(\"Data\",data)\n",
    "print(\"outliers\",outliers)\n",
    "\n",
    "# remove outliers\n",
    "data=[data[i] for i, label in enumerate(labels) if label==0]\n",
    "print(\"Data without outliers: \",data)\n"
   ]
  },
  {
   "cell_type": "code",
   "execution_count": null,
   "metadata": {},
   "outputs": [],
   "source": []
  }
 ],
 "metadata": {
  "kernelspec": {
   "display_name": "python_eda",
   "language": "python",
   "name": "python3"
  },
  "language_info": {
   "codemirror_mode": {
    "name": "ipython",
    "version": 3
   },
   "file_extension": ".py",
   "mimetype": "text/x-python",
   "name": "python",
   "nbconvert_exporter": "python",
   "pygments_lexer": "ipython3",
   "version": "3.12.0"
  }
 },
 "nbformat": 4,
 "nbformat_minor": 2
}
